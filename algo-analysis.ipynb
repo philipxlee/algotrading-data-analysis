{
 "cells": [
  {
   "cell_type": "markdown",
   "id": "2775fab7",
   "metadata": {},
   "source": [
    "\n",
    "### Algorithmic Trading Data Analysis\n",
    "- This code utilizes the pandas library to analyze financial data for algorithmic trading. \n",
    "- It includes various functions and methods for data manipulation, exploration, and visualization.\n"
   ]
  },
  {
   "cell_type": "code",
   "execution_count": 6,
   "id": "47f99c01",
   "metadata": {},
   "outputs": [],
   "source": [
    "import pandas as pd\n",
    "import plotly.graph_objects as go\n",
    "import matplotlib.pyplot as plt"
   ]
  },
  {
   "cell_type": "code",
   "execution_count": 2,
   "id": "7673ad7c",
   "metadata": {},
   "outputs": [
    {
     "data": {
      "text/html": [
       "<div>\n",
       "<style scoped>\n",
       "    .dataframe tbody tr th:only-of-type {\n",
       "        vertical-align: middle;\n",
       "    }\n",
       "\n",
       "    .dataframe tbody tr th {\n",
       "        vertical-align: top;\n",
       "    }\n",
       "\n",
       "    .dataframe thead th {\n",
       "        text-align: right;\n",
       "    }\n",
       "</style>\n",
       "<table border=\"1\" class=\"dataframe\">\n",
       "  <thead>\n",
       "    <tr style=\"text-align: right;\">\n",
       "      <th></th>\n",
       "      <th>Date</th>\n",
       "      <th>Open</th>\n",
       "      <th>High</th>\n",
       "      <th>Low</th>\n",
       "      <th>Close</th>\n",
       "      <th>Adj Close</th>\n",
       "      <th>Volume</th>\n",
       "    </tr>\n",
       "  </thead>\n",
       "  <tbody>\n",
       "    <tr>\n",
       "      <th>0</th>\n",
       "      <td>2023-03-14</td>\n",
       "      <td>24201.765625</td>\n",
       "      <td>26514.716797</td>\n",
       "      <td>24081.183594</td>\n",
       "      <td>24746.074219</td>\n",
       "      <td>24746.074219</td>\n",
       "      <td>54622230164</td>\n",
       "    </tr>\n",
       "    <tr>\n",
       "      <th>1</th>\n",
       "      <td>2023-03-15</td>\n",
       "      <td>24770.925781</td>\n",
       "      <td>25240.615234</td>\n",
       "      <td>23964.910156</td>\n",
       "      <td>24375.960938</td>\n",
       "      <td>24375.960938</td>\n",
       "      <td>43655701450</td>\n",
       "    </tr>\n",
       "    <tr>\n",
       "      <th>2</th>\n",
       "      <td>2023-03-16</td>\n",
       "      <td>24373.457031</td>\n",
       "      <td>25190.326172</td>\n",
       "      <td>24225.111328</td>\n",
       "      <td>25052.789063</td>\n",
       "      <td>25052.789063</td>\n",
       "      <td>33866061747</td>\n",
       "    </tr>\n",
       "    <tr>\n",
       "      <th>3</th>\n",
       "      <td>2023-03-17</td>\n",
       "      <td>25055.123047</td>\n",
       "      <td>27787.812500</td>\n",
       "      <td>24955.169922</td>\n",
       "      <td>27423.929688</td>\n",
       "      <td>27423.929688</td>\n",
       "      <td>50730261335</td>\n",
       "    </tr>\n",
       "    <tr>\n",
       "      <th>4</th>\n",
       "      <td>2023-03-18</td>\n",
       "      <td>27448.117188</td>\n",
       "      <td>27725.953125</td>\n",
       "      <td>26636.261719</td>\n",
       "      <td>26965.878906</td>\n",
       "      <td>26965.878906</td>\n",
       "      <td>35723036817</td>\n",
       "    </tr>\n",
       "  </tbody>\n",
       "</table>\n",
       "</div>"
      ],
      "text/plain": [
       "         Date          Open          High           Low         Close  \\\n",
       "0  2023-03-14  24201.765625  26514.716797  24081.183594  24746.074219   \n",
       "1  2023-03-15  24770.925781  25240.615234  23964.910156  24375.960938   \n",
       "2  2023-03-16  24373.457031  25190.326172  24225.111328  25052.789063   \n",
       "3  2023-03-17  25055.123047  27787.812500  24955.169922  27423.929688   \n",
       "4  2023-03-18  27448.117188  27725.953125  26636.261719  26965.878906   \n",
       "\n",
       "      Adj Close       Volume  \n",
       "0  24746.074219  54622230164  \n",
       "1  24375.960938  43655701450  \n",
       "2  25052.789063  33866061747  \n",
       "3  27423.929688  50730261335  \n",
       "4  26965.878906  35723036817  "
      ]
     },
     "execution_count": 2,
     "metadata": {},
     "output_type": "execute_result"
    }
   ],
   "source": [
    "csv_path = \"data/BTC-USD.csv\"\n",
    "data = pd.read_csv(csv_path)\n",
    "data.head()"
   ]
  },
  {
   "cell_type": "code",
   "execution_count": 3,
   "id": "72a86053",
   "metadata": {},
   "outputs": [],
   "source": [
    "data[data[\"Volume\"] == 0]\n",
    "data[data[\"High\"] == data[\"Low\"]]\n",
    "data_filtered = data[data[\"High\"] != data[\"Low\"]].copy()"
   ]
  },
  {
   "cell_type": "code",
   "execution_count": 26,
   "id": "ebddd148",
   "metadata": {},
   "outputs": [
    {
     "data": {
      "application/vnd.plotly.v1+json": {
       "config": {
        "plotlyServerURL": "https://plot.ly"
       },
       "data": [
        {
         "close": [
          24746.074219,
          24375.960938,
          25052.789063,
          27423.929688,
          26965.878906,
          28038.675781,
          27767.236328,
          28175.816406,
          27307.4375,
          28333.972656,
          27493.285156,
          27494.707031,
          27994.330078,
          27139.888672,
          27268.130859,
          28348.441406,
          28033.5625,
          28478.484375,
          28411.035156,
          28199.308594,
          27790.220703,
          28168.089844,
          28177.984375,
          28044.140625,
          27925.859375,
          27947.794922,
          28333.050781,
          29652.980469,
          30235.058594,
          30139.052734,
          30399.066406,
          30485.699219,
          30318.496094,
          30315.355469,
          29445.044922,
          30397.552734,
          28822.679688,
          28245.988281,
          27276.910156,
          27817.5,
          27591.384766,
          27525.339844,
          28307.597656,
          28422.701172,
          29473.787109,
          29340.261719,
          29248.488281,
          29268.806641,
          28091.568359,
          28680.537109,
          29006.308594,
          28847.710938,
          29534.384766,
          28904.623047,
          28454.978516,
          27694.273438,
          27658.775391,
          27621.755859,
          27000.789063,
          26804.990234
         ],
         "high": [
          26514.716797,
          25240.615234,
          25190.326172,
          27787.8125,
          27725.953125,
          28440.560547,
          28527.724609,
          28439.5625,
          28803.335938,
          28729.84375,
          28388.4375,
          27791.826172,
          28178.144531,
          28037.925781,
          27460.71875,
          28619.542969,
          29159.902344,
          28639.896484,
          28802.457031,
          28518.958984,
          28475.623047,
          28433.742188,
          28739.238281,
          28178.384766,
          28111.59375,
          28159.863281,
          28532.830078,
          29771.464844,
          30509.083984,
          30462.480469,
          30539.845703,
          31005.607422,
          30601.740234,
          30555.537109,
          30319.197266,
          30470.302734,
          30411.054688,
          29076.400391,
          28349.96875,
          27872.142578,
          27820.244141,
          27979.982422,
          28371.078125,
          29995.837891,
          29871.546875,
          29572.791016,
          29452.455078,
          29952.029297,
          29329.935547,
          28881.298828,
          29259.533203,
          29353.185547,
          29668.908203,
          29820.126953,
          29157.517578,
          28663.271484,
          27821.400391,
          28322.6875,
          27621.941406,
          27055.646484
         ],
         "low": [
          24081.183594,
          23964.910156,
          24225.111328,
          24955.169922,
          26636.261719,
          26907.716797,
          27242.880859,
          27439.646484,
          26759.996094,
          27183.363281,
          27039.265625,
          27196.234375,
          27445.046875,
          26606.689453,
          26677.818359,
          27259.662109,
          27720.160156,
          27583.714844,
          28297.171875,
          27884.087891,
          27276.720703,
          27681.304688,
          27843.763672,
          27738.759766,
          27794.03125,
          27883.386719,
          27828.480469,
          28189.271484,
          29609.300781,
          29725.574219,
          29878.623047,
          30044.498047,
          30245.882813,
          30157.832031,
          29275.371094,
          29154.849609,
          28669.898438,
          28037.257813,
          27177.365234,
          27169.570313,
          27400.314453,
          27070.849609,
          27207.931641,
          27324.548828,
          28402.886719,
          28929.609375,
          29088.042969,
          29114.021484,
          27680.792969,
          27924.123047,
          28178.388672,
          28694.039063,
          28845.509766,
          28468.966797,
          28441.367188,
          27310.134766,
          27375.601563,
          26883.669922,
          26781.826172,
          25878.429688
         ],
         "open": [
          24201.765625,
          24770.925781,
          24373.457031,
          25055.123047,
          27448.117188,
          26969.503906,
          28041.601563,
          27768.392578,
          28158.720703,
          27301.957031,
          28324.111328,
          27487.337891,
          27495.523438,
          27994.068359,
          27132.888672,
          27267.03125,
          28350.140625,
          28032.261719,
          28473.332031,
          28462.845703,
          28183.080078,
          27795.273438,
          28169.726563,
          28175.226563,
          28038.966797,
          27920.513672,
          27952.367188,
          28336.027344,
          29653.679688,
          30231.582031,
          29892.740234,
          30409.5625,
          30490.75,
          30315.976563,
          30317.146484,
          29449.091797,
          30394.1875,
          28823.683594,
          28249.230469,
          27265.894531,
          27816.144531,
          27591.730469,
          27514.873047,
          28300.058594,
          28428.464844,
          29481.013672,
          29336.566406,
          29245.515625,
          29227.103516,
          28087.175781,
          28680.494141,
          29031.304688,
          28851.480469,
          29538.859375,
          28901.623047,
          28450.457031,
          27695.068359,
          27654.636719,
          27621.085938,
          26987.662109
         ],
         "type": "candlestick",
         "x": [
          0,
          1,
          2,
          3,
          4,
          5,
          6,
          7,
          8,
          9,
          10,
          11,
          12,
          13,
          14,
          15,
          16,
          17,
          18,
          19,
          20,
          21,
          22,
          23,
          24,
          25,
          26,
          27,
          28,
          29,
          30,
          31,
          32,
          33,
          34,
          35,
          36,
          37,
          38,
          39,
          40,
          41,
          42,
          43,
          44,
          45,
          46,
          47,
          48,
          49,
          50,
          51,
          52,
          53,
          54,
          55,
          56,
          57,
          58,
          59
         ]
        }
       ],
       "layout": {
        "template": {
         "data": {
          "bar": [
           {
            "error_x": {
             "color": "#2a3f5f"
            },
            "error_y": {
             "color": "#2a3f5f"
            },
            "marker": {
             "line": {
              "color": "#E5ECF6",
              "width": 0.5
             },
             "pattern": {
              "fillmode": "overlay",
              "size": 10,
              "solidity": 0.2
             }
            },
            "type": "bar"
           }
          ],
          "barpolar": [
           {
            "marker": {
             "line": {
              "color": "#E5ECF6",
              "width": 0.5
             },
             "pattern": {
              "fillmode": "overlay",
              "size": 10,
              "solidity": 0.2
             }
            },
            "type": "barpolar"
           }
          ],
          "carpet": [
           {
            "aaxis": {
             "endlinecolor": "#2a3f5f",
             "gridcolor": "white",
             "linecolor": "white",
             "minorgridcolor": "white",
             "startlinecolor": "#2a3f5f"
            },
            "baxis": {
             "endlinecolor": "#2a3f5f",
             "gridcolor": "white",
             "linecolor": "white",
             "minorgridcolor": "white",
             "startlinecolor": "#2a3f5f"
            },
            "type": "carpet"
           }
          ],
          "choropleth": [
           {
            "colorbar": {
             "outlinewidth": 0,
             "ticks": ""
            },
            "type": "choropleth"
           }
          ],
          "contour": [
           {
            "colorbar": {
             "outlinewidth": 0,
             "ticks": ""
            },
            "colorscale": [
             [
              0,
              "#0d0887"
             ],
             [
              0.1111111111111111,
              "#46039f"
             ],
             [
              0.2222222222222222,
              "#7201a8"
             ],
             [
              0.3333333333333333,
              "#9c179e"
             ],
             [
              0.4444444444444444,
              "#bd3786"
             ],
             [
              0.5555555555555556,
              "#d8576b"
             ],
             [
              0.6666666666666666,
              "#ed7953"
             ],
             [
              0.7777777777777778,
              "#fb9f3a"
             ],
             [
              0.8888888888888888,
              "#fdca26"
             ],
             [
              1,
              "#f0f921"
             ]
            ],
            "type": "contour"
           }
          ],
          "contourcarpet": [
           {
            "colorbar": {
             "outlinewidth": 0,
             "ticks": ""
            },
            "type": "contourcarpet"
           }
          ],
          "heatmap": [
           {
            "colorbar": {
             "outlinewidth": 0,
             "ticks": ""
            },
            "colorscale": [
             [
              0,
              "#0d0887"
             ],
             [
              0.1111111111111111,
              "#46039f"
             ],
             [
              0.2222222222222222,
              "#7201a8"
             ],
             [
              0.3333333333333333,
              "#9c179e"
             ],
             [
              0.4444444444444444,
              "#bd3786"
             ],
             [
              0.5555555555555556,
              "#d8576b"
             ],
             [
              0.6666666666666666,
              "#ed7953"
             ],
             [
              0.7777777777777778,
              "#fb9f3a"
             ],
             [
              0.8888888888888888,
              "#fdca26"
             ],
             [
              1,
              "#f0f921"
             ]
            ],
            "type": "heatmap"
           }
          ],
          "heatmapgl": [
           {
            "colorbar": {
             "outlinewidth": 0,
             "ticks": ""
            },
            "colorscale": [
             [
              0,
              "#0d0887"
             ],
             [
              0.1111111111111111,
              "#46039f"
             ],
             [
              0.2222222222222222,
              "#7201a8"
             ],
             [
              0.3333333333333333,
              "#9c179e"
             ],
             [
              0.4444444444444444,
              "#bd3786"
             ],
             [
              0.5555555555555556,
              "#d8576b"
             ],
             [
              0.6666666666666666,
              "#ed7953"
             ],
             [
              0.7777777777777778,
              "#fb9f3a"
             ],
             [
              0.8888888888888888,
              "#fdca26"
             ],
             [
              1,
              "#f0f921"
             ]
            ],
            "type": "heatmapgl"
           }
          ],
          "histogram": [
           {
            "marker": {
             "pattern": {
              "fillmode": "overlay",
              "size": 10,
              "solidity": 0.2
             }
            },
            "type": "histogram"
           }
          ],
          "histogram2d": [
           {
            "colorbar": {
             "outlinewidth": 0,
             "ticks": ""
            },
            "colorscale": [
             [
              0,
              "#0d0887"
             ],
             [
              0.1111111111111111,
              "#46039f"
             ],
             [
              0.2222222222222222,
              "#7201a8"
             ],
             [
              0.3333333333333333,
              "#9c179e"
             ],
             [
              0.4444444444444444,
              "#bd3786"
             ],
             [
              0.5555555555555556,
              "#d8576b"
             ],
             [
              0.6666666666666666,
              "#ed7953"
             ],
             [
              0.7777777777777778,
              "#fb9f3a"
             ],
             [
              0.8888888888888888,
              "#fdca26"
             ],
             [
              1,
              "#f0f921"
             ]
            ],
            "type": "histogram2d"
           }
          ],
          "histogram2dcontour": [
           {
            "colorbar": {
             "outlinewidth": 0,
             "ticks": ""
            },
            "colorscale": [
             [
              0,
              "#0d0887"
             ],
             [
              0.1111111111111111,
              "#46039f"
             ],
             [
              0.2222222222222222,
              "#7201a8"
             ],
             [
              0.3333333333333333,
              "#9c179e"
             ],
             [
              0.4444444444444444,
              "#bd3786"
             ],
             [
              0.5555555555555556,
              "#d8576b"
             ],
             [
              0.6666666666666666,
              "#ed7953"
             ],
             [
              0.7777777777777778,
              "#fb9f3a"
             ],
             [
              0.8888888888888888,
              "#fdca26"
             ],
             [
              1,
              "#f0f921"
             ]
            ],
            "type": "histogram2dcontour"
           }
          ],
          "mesh3d": [
           {
            "colorbar": {
             "outlinewidth": 0,
             "ticks": ""
            },
            "type": "mesh3d"
           }
          ],
          "parcoords": [
           {
            "line": {
             "colorbar": {
              "outlinewidth": 0,
              "ticks": ""
             }
            },
            "type": "parcoords"
           }
          ],
          "pie": [
           {
            "automargin": true,
            "type": "pie"
           }
          ],
          "scatter": [
           {
            "fillpattern": {
             "fillmode": "overlay",
             "size": 10,
             "solidity": 0.2
            },
            "type": "scatter"
           }
          ],
          "scatter3d": [
           {
            "line": {
             "colorbar": {
              "outlinewidth": 0,
              "ticks": ""
             }
            },
            "marker": {
             "colorbar": {
              "outlinewidth": 0,
              "ticks": ""
             }
            },
            "type": "scatter3d"
           }
          ],
          "scattercarpet": [
           {
            "marker": {
             "colorbar": {
              "outlinewidth": 0,
              "ticks": ""
             }
            },
            "type": "scattercarpet"
           }
          ],
          "scattergeo": [
           {
            "marker": {
             "colorbar": {
              "outlinewidth": 0,
              "ticks": ""
             }
            },
            "type": "scattergeo"
           }
          ],
          "scattergl": [
           {
            "marker": {
             "colorbar": {
              "outlinewidth": 0,
              "ticks": ""
             }
            },
            "type": "scattergl"
           }
          ],
          "scattermapbox": [
           {
            "marker": {
             "colorbar": {
              "outlinewidth": 0,
              "ticks": ""
             }
            },
            "type": "scattermapbox"
           }
          ],
          "scatterpolar": [
           {
            "marker": {
             "colorbar": {
              "outlinewidth": 0,
              "ticks": ""
             }
            },
            "type": "scatterpolar"
           }
          ],
          "scatterpolargl": [
           {
            "marker": {
             "colorbar": {
              "outlinewidth": 0,
              "ticks": ""
             }
            },
            "type": "scatterpolargl"
           }
          ],
          "scatterternary": [
           {
            "marker": {
             "colorbar": {
              "outlinewidth": 0,
              "ticks": ""
             }
            },
            "type": "scatterternary"
           }
          ],
          "surface": [
           {
            "colorbar": {
             "outlinewidth": 0,
             "ticks": ""
            },
            "colorscale": [
             [
              0,
              "#0d0887"
             ],
             [
              0.1111111111111111,
              "#46039f"
             ],
             [
              0.2222222222222222,
              "#7201a8"
             ],
             [
              0.3333333333333333,
              "#9c179e"
             ],
             [
              0.4444444444444444,
              "#bd3786"
             ],
             [
              0.5555555555555556,
              "#d8576b"
             ],
             [
              0.6666666666666666,
              "#ed7953"
             ],
             [
              0.7777777777777778,
              "#fb9f3a"
             ],
             [
              0.8888888888888888,
              "#fdca26"
             ],
             [
              1,
              "#f0f921"
             ]
            ],
            "type": "surface"
           }
          ],
          "table": [
           {
            "cells": {
             "fill": {
              "color": "#EBF0F8"
             },
             "line": {
              "color": "white"
             }
            },
            "header": {
             "fill": {
              "color": "#C8D4E3"
             },
             "line": {
              "color": "white"
             }
            },
            "type": "table"
           }
          ]
         },
         "layout": {
          "annotationdefaults": {
           "arrowcolor": "#2a3f5f",
           "arrowhead": 0,
           "arrowwidth": 1
          },
          "autotypenumbers": "strict",
          "coloraxis": {
           "colorbar": {
            "outlinewidth": 0,
            "ticks": ""
           }
          },
          "colorscale": {
           "diverging": [
            [
             0,
             "#8e0152"
            ],
            [
             0.1,
             "#c51b7d"
            ],
            [
             0.2,
             "#de77ae"
            ],
            [
             0.3,
             "#f1b6da"
            ],
            [
             0.4,
             "#fde0ef"
            ],
            [
             0.5,
             "#f7f7f7"
            ],
            [
             0.6,
             "#e6f5d0"
            ],
            [
             0.7,
             "#b8e186"
            ],
            [
             0.8,
             "#7fbc41"
            ],
            [
             0.9,
             "#4d9221"
            ],
            [
             1,
             "#276419"
            ]
           ],
           "sequential": [
            [
             0,
             "#0d0887"
            ],
            [
             0.1111111111111111,
             "#46039f"
            ],
            [
             0.2222222222222222,
             "#7201a8"
            ],
            [
             0.3333333333333333,
             "#9c179e"
            ],
            [
             0.4444444444444444,
             "#bd3786"
            ],
            [
             0.5555555555555556,
             "#d8576b"
            ],
            [
             0.6666666666666666,
             "#ed7953"
            ],
            [
             0.7777777777777778,
             "#fb9f3a"
            ],
            [
             0.8888888888888888,
             "#fdca26"
            ],
            [
             1,
             "#f0f921"
            ]
           ],
           "sequentialminus": [
            [
             0,
             "#0d0887"
            ],
            [
             0.1111111111111111,
             "#46039f"
            ],
            [
             0.2222222222222222,
             "#7201a8"
            ],
            [
             0.3333333333333333,
             "#9c179e"
            ],
            [
             0.4444444444444444,
             "#bd3786"
            ],
            [
             0.5555555555555556,
             "#d8576b"
            ],
            [
             0.6666666666666666,
             "#ed7953"
            ],
            [
             0.7777777777777778,
             "#fb9f3a"
            ],
            [
             0.8888888888888888,
             "#fdca26"
            ],
            [
             1,
             "#f0f921"
            ]
           ]
          },
          "colorway": [
           "#636efa",
           "#EF553B",
           "#00cc96",
           "#ab63fa",
           "#FFA15A",
           "#19d3f3",
           "#FF6692",
           "#B6E880",
           "#FF97FF",
           "#FECB52"
          ],
          "font": {
           "color": "#2a3f5f"
          },
          "geo": {
           "bgcolor": "white",
           "lakecolor": "white",
           "landcolor": "#E5ECF6",
           "showlakes": true,
           "showland": true,
           "subunitcolor": "white"
          },
          "hoverlabel": {
           "align": "left"
          },
          "hovermode": "closest",
          "mapbox": {
           "style": "light"
          },
          "paper_bgcolor": "white",
          "plot_bgcolor": "#E5ECF6",
          "polar": {
           "angularaxis": {
            "gridcolor": "white",
            "linecolor": "white",
            "ticks": ""
           },
           "bgcolor": "#E5ECF6",
           "radialaxis": {
            "gridcolor": "white",
            "linecolor": "white",
            "ticks": ""
           }
          },
          "scene": {
           "xaxis": {
            "backgroundcolor": "#E5ECF6",
            "gridcolor": "white",
            "gridwidth": 2,
            "linecolor": "white",
            "showbackground": true,
            "ticks": "",
            "zerolinecolor": "white"
           },
           "yaxis": {
            "backgroundcolor": "#E5ECF6",
            "gridcolor": "white",
            "gridwidth": 2,
            "linecolor": "white",
            "showbackground": true,
            "ticks": "",
            "zerolinecolor": "white"
           },
           "zaxis": {
            "backgroundcolor": "#E5ECF6",
            "gridcolor": "white",
            "gridwidth": 2,
            "linecolor": "white",
            "showbackground": true,
            "ticks": "",
            "zerolinecolor": "white"
           }
          },
          "shapedefaults": {
           "line": {
            "color": "#2a3f5f"
           }
          },
          "ternary": {
           "aaxis": {
            "gridcolor": "white",
            "linecolor": "white",
            "ticks": ""
           },
           "baxis": {
            "gridcolor": "white",
            "linecolor": "white",
            "ticks": ""
           },
           "bgcolor": "#E5ECF6",
           "caxis": {
            "gridcolor": "white",
            "linecolor": "white",
            "ticks": ""
           }
          },
          "title": {
           "x": 0.05
          },
          "xaxis": {
           "automargin": true,
           "gridcolor": "white",
           "linecolor": "white",
           "ticks": "",
           "title": {
            "standoff": 15
           },
           "zerolinecolor": "white",
           "zerolinewidth": 2
          },
          "yaxis": {
           "automargin": true,
           "gridcolor": "white",
           "linecolor": "white",
           "ticks": "",
           "title": {
            "standoff": 15
           },
           "zerolinecolor": "white",
           "zerolinewidth": 2
          }
         }
        }
       }
      }
     },
     "metadata": {},
     "output_type": "display_data"
    }
   ],
   "source": [
    "dfplot = data_filtered[0:60]\n",
    "fig = go.Figure(data=[go.Candlestick(\n",
    "                x=dfplot.index, \n",
    "                open=dfplot[\"Open\"], \n",
    "                high=dfplot[\"High\"], \n",
    "                low=dfplot[\"Low\"], \n",
    "                close=dfplot[\"Close\"])])\n",
    "fig.show()"
   ]
  },
  {
   "cell_type": "code",
   "execution_count": 29,
   "id": "5a257a34",
   "metadata": {},
   "outputs": [
    {
     "data": {
      "image/png": "[encoded data removed]",
      "text/plain": [
       "<Figure size 640x480 with 1 Axes>"
      ]
     },
     "metadata": {},
     "output_type": "display_data"
    }
   ],
   "source": [
    "plt.plot(dfplot[\"Date\"], dfplot[\"Close\"])\n",
    "plt.xticks(rotation=90, fontsize=5)\n",
    "plt.show()"
   ]
  },
  {
   "cell_type": "code",
   "execution_count": 53,
   "id": "a9da24b7",
   "metadata": {},
   "outputs": [
    {
     "data": {
      "application/vnd.plotly.v1+json": {
       "config": {
        "plotlyServerURL": "https://plot.ly"
       },
       "data": [
        {
         "close": [
          24746.074219,
          24375.960938,
          25052.789063,
          27423.929688,
          26965.878906,
          28038.675781,
          27767.236328,
          28175.816406,
          27307.4375,
          28333.972656,
          27493.285156,
          27494.707031,
          27994.330078,
          27139.888672,
          27268.130859,
          28348.441406,
          28033.5625,
          28478.484375,
          28411.035156,
          28199.308594,
          27790.220703,
          28168.089844,
          28177.984375,
          28044.140625,
          27925.859375,
          27947.794922,
          28333.050781,
          29652.980469,
          30235.058594,
          30139.052734,
          30399.066406,
          30485.699219,
          30318.496094,
          30315.355469,
          29445.044922,
          30397.552734,
          28822.679688,
          28245.988281,
          27276.910156,
          27817.5,
          27591.384766,
          27525.339844,
          28307.597656,
          28422.701172,
          29473.787109,
          29340.261719,
          29248.488281,
          29268.806641,
          28091.568359,
          28680.537109,
          29006.308594,
          28847.710938,
          29534.384766,
          28904.623047,
          28454.978516,
          27694.273438,
          27658.775391,
          27621.755859,
          27000.789063,
          26804.990234
         ],
         "decreasing": {
          "line": {
           "color": "red"
          }
         },
         "high": [
          26514.716797,
          25240.615234,
          25190.326172,
          27787.8125,
          27725.953125,
          28440.560547,
          28527.724609,
          28439.5625,
          28803.335938,
          28729.84375,
          28388.4375,
          27791.826172,
          28178.144531,
          28037.925781,
          27460.71875,
          28619.542969,
          29159.902344,
          28639.896484,
          28802.457031,
          28518.958984,
          28475.623047,
          28433.742188,
          28739.238281,
          28178.384766,
          28111.59375,
          28159.863281,
          28532.830078,
          29771.464844,
          30509.083984,
          30462.480469,
          30539.845703,
          31005.607422,
          30601.740234,
          30555.537109,
          30319.197266,
          30470.302734,
          30411.054688,
          29076.400391,
          28349.96875,
          27872.142578,
          27820.244141,
          27979.982422,
          28371.078125,
          29995.837891,
          29871.546875,
          29572.791016,
          29452.455078,
          29952.029297,
          29329.935547,
          28881.298828,
          29259.533203,
          29353.185547,
          29668.908203,
          29820.126953,
          29157.517578,
          28663.271484,
          27821.400391,
          28322.6875,
          27621.941406,
          27055.646484
         ],
         "increasing": {
          "line": {
           "color": "green"
          }
         },
         "low": [
          24081.183594,
          23964.910156,
          24225.111328,
          24955.169922,
          26636.261719,
          26907.716797,
          27242.880859,
          27439.646484,
          26759.996094,
          27183.363281,
          27039.265625,
          27196.234375,
          27445.046875,
          26606.689453,
          26677.818359,
          27259.662109,
          27720.160156,
          27583.714844,
          28297.171875,
          27884.087891,
          27276.720703,
          27681.304688,
          27843.763672,
          27738.759766,
          27794.03125,
          27883.386719,
          27828.480469,
          28189.271484,
          29609.300781,
          29725.574219,
          29878.623047,
          30044.498047,
          30245.882813,
          30157.832031,
          29275.371094,
          29154.849609,
          28669.898438,
          28037.257813,
          27177.365234,
          27169.570313,
          27400.314453,
          27070.849609,
          27207.931641,
          27324.548828,
          28402.886719,
          28929.609375,
          29088.042969,
          29114.021484,
          27680.792969,
          27924.123047,
          28178.388672,
          28694.039063,
          28845.509766,
          28468.966797,
          28441.367188,
          27310.134766,
          27375.601563,
          26883.669922,
          26781.826172,
          25878.429688
         ],
         "open": [
          24201.765625,
          24770.925781,
          24373.457031,
          25055.123047,
          27448.117188,
          26969.503906,
          28041.601563,
          27768.392578,
          28158.720703,
          27301.957031,
          28324.111328,
          27487.337891,
          27495.523438,
          27994.068359,
          27132.888672,
          27267.03125,
          28350.140625,
          28032.261719,
          28473.332031,
          28462.845703,
          28183.080078,
          27795.273438,
          28169.726563,
          28175.226563,
          28038.966797,
          27920.513672,
          27952.367188,
          28336.027344,
          29653.679688,
          30231.582031,
          29892.740234,
          30409.5625,
          30490.75,
          30315.976563,
          30317.146484,
          29449.091797,
          30394.1875,
          28823.683594,
          28249.230469,
          27265.894531,
          27816.144531,
          27591.730469,
          27514.873047,
          28300.058594,
          28428.464844,
          29481.013672,
          29336.566406,
          29245.515625,
          29227.103516,
          28087.175781,
          28680.494141,
          29031.304688,
          28851.480469,
          29538.859375,
          28901.623047,
          28450.457031,
          27695.068359,
          27654.636719,
          27621.085938,
          26987.662109
         ],
         "type": "candlestick",
         "x": [
          "2023-03-14",
          "2023-03-15",
          "2023-03-16",
          "2023-03-17",
          "2023-03-18",
          "2023-03-19",
          "2023-03-20",
          "2023-03-21",
          "2023-03-22",
          "2023-03-23",
          "2023-03-24",
          "2023-03-25",
          "2023-03-26",
          "2023-03-27",
          "2023-03-28",
          "2023-03-29",
          "2023-03-30",
          "2023-03-31",
          "2023-04-01",
          "2023-04-02",
          "2023-04-03",
          "2023-04-04",
          "2023-04-05",
          "2023-04-06",
          "2023-04-07",
          "2023-04-08",
          "2023-04-09",
          "2023-04-10",
          "2023-04-11",
          "2023-04-12",
          "2023-04-13",
          "2023-04-14",
          "2023-04-15",
          "2023-04-16",
          "2023-04-17",
          "2023-04-18",
          "2023-04-19",
          "2023-04-20",
          "2023-04-21",
          "2023-04-22",
          "2023-04-23",
          "2023-04-24",
          "2023-04-25",
          "2023-04-26",
          "2023-04-27",
          "2023-04-28",
          "2023-04-29",
          "2023-04-30",
          "2023-05-01",
          "2023-05-02",
          "2023-05-03",
          "2023-05-04",
          "2023-05-05",
          "2023-05-06",
          "2023-05-07",
          "2023-05-08",
          "2023-05-09",
          "2023-05-10",
          "2023-05-11",
          "2023-05-12"
         ]
        },
        {
         "line": {
          "color": "blue",
          "width": 2
         },
         "name": "Resistance",
         "type": "scatter",
         "x": [
          "2023-03-14",
          "2023-03-15",
          "2023-03-16",
          "2023-03-17",
          "2023-03-18",
          "2023-03-19",
          "2023-03-20",
          "2023-03-21",
          "2023-03-22",
          "2023-03-23",
          "2023-03-24",
          "2023-03-25",
          "2023-03-26",
          "2023-03-27",
          "2023-03-28",
          "2023-03-29",
          "2023-03-30",
          "2023-03-31",
          "2023-04-01",
          "2023-04-02",
          "2023-04-03",
          "2023-04-04",
          "2023-04-05",
          "2023-04-06",
          "2023-04-07",
          "2023-04-08",
          "2023-04-09",
          "2023-04-10",
          "2023-04-11",
          "2023-04-12",
          "2023-04-13",
          "2023-04-14",
          "2023-04-15",
          "2023-04-16",
          "2023-04-17",
          "2023-04-18",
          "2023-04-19",
          "2023-04-20",
          "2023-04-21",
          "2023-04-22",
          "2023-04-23",
          "2023-04-24",
          "2023-04-25",
          "2023-04-26",
          "2023-04-27",
          "2023-04-28",
          "2023-04-29",
          "2023-04-30",
          "2023-05-01",
          "2023-05-02",
          "2023-05-03",
          "2023-05-04",
          "2023-05-05",
          "2023-05-06",
          "2023-05-07",
          "2023-05-08",
          "2023-05-09",
          "2023-05-10",
          "2023-05-11",
          "2023-05-12"
         ],
         "y": [
          27000,
          27000,
          27000,
          27000,
          27000,
          27000,
          27000,
          27000,
          27000,
          27000,
          27000,
          27000,
          27000,
          27000,
          27000,
          27000,
          27000,
          27000,
          27000,
          27000,
          27000,
          27000,
          27000,
          27000,
          27000,
          27000,
          27000,
          27000,
          27000,
          27000,
          27000,
          27000,
          27000,
          27000,
          27000,
          27000,
          27000,
          27000,
          27000,
          27000,
          27000,
          27000,
          27000,
          27000,
          27000,
          27000,
          27000,
          27000,
          27000,
          27000,
          27000,
          27000,
          27000,
          27000,
          27000,
          27000,
          27000,
          27000,
          27000,
          27000
         ]
        },
        {
         "line": {
          "color": "blue",
          "width": 2
         },
         "name": "Resistance",
         "type": "scatter",
         "x": [
          "2023-03-14",
          "2023-03-15",
          "2023-03-16",
          "2023-03-17",
          "2023-03-18",
          "2023-03-19",
          "2023-03-20",
          "2023-03-21",
          "2023-03-22",
          "2023-03-23",
          "2023-03-24",
          "2023-03-25",
          "2023-03-26",
          "2023-03-27",
          "2023-03-28",
          "2023-03-29",
          "2023-03-30",
          "2023-03-31",
          "2023-04-01",
          "2023-04-02",
          "2023-04-03",
          "2023-04-04",
          "2023-04-05",
          "2023-04-06",
          "2023-04-07",
          "2023-04-08",
          "2023-04-09",
          "2023-04-10",
          "2023-04-11",
          "2023-04-12",
          "2023-04-13",
          "2023-04-14",
          "2023-04-15",
          "2023-04-16",
          "2023-04-17",
          "2023-04-18",
          "2023-04-19",
          "2023-04-20",
          "2023-04-21",
          "2023-04-22",
          "2023-04-23",
          "2023-04-24",
          "2023-04-25",
          "2023-04-26",
          "2023-04-27",
          "2023-04-28",
          "2023-04-29",
          "2023-04-30",
          "2023-05-01",
          "2023-05-02",
          "2023-05-03",
          "2023-05-04",
          "2023-05-05",
          "2023-05-06",
          "2023-05-07",
          "2023-05-08",
          "2023-05-09",
          "2023-05-10",
          "2023-05-11",
          "2023-05-12"
         ],
         "y": [
          28500,
          28500,
          28500,
          28500,
          28500,
          28500,
          28500,
          28500,
          28500,
          28500,
          28500,
          28500,
          28500,
          28500,
          28500,
          28500,
          28500,
          28500,
          28500,
          28500,
          28500,
          28500,
          28500,
          28500,
          28500,
          28500,
          28500,
          28500,
          28500,
          28500,
          28500,
          28500,
          28500,
          28500,
          28500,
          28500,
          28500,
          28500,
          28500,
          28500,
          28500,
          28500,
          28500,
          28500,
          28500,
          28500,
          28500,
          28500,
          28500,
          28500,
          28500,
          28500,
          28500,
          28500,
          28500,
          28500,
          28500,
          28500,
          28500,
          28500
         ]
        },
        {
         "marker": {
          "color": "Purple",
          "size": 5
         },
         "mode": "markers",
         "name": "Signal",
         "type": "scatter",
         "x": [
          "2023-03-14",
          "2023-03-15",
          "2023-03-16",
          "2023-03-17",
          "2023-03-18",
          "2023-03-19",
          "2023-03-20",
          "2023-03-21",
          "2023-03-22",
          "2023-03-23",
          "2023-03-24",
          "2023-03-25",
          "2023-03-26",
          "2023-03-27",
          "2023-03-28",
          "2023-03-29",
          "2023-03-30",
          "2023-03-31",
          "2023-04-01",
          "2023-04-02",
          "2023-04-03",
          "2023-04-04",
          "2023-04-05",
          "2023-04-06",
          "2023-04-07",
          "2023-04-08",
          "2023-04-09",
          "2023-04-10",
          "2023-04-11",
          "2023-04-12",
          "2023-04-13",
          "2023-04-14",
          "2023-04-15",
          "2023-04-16",
          "2023-04-17",
          "2023-04-18",
          "2023-04-19",
          "2023-04-20",
          "2023-04-21",
          "2023-04-22",
          "2023-04-23",
          "2023-04-24",
          "2023-04-25",
          "2023-04-26",
          "2023-04-27",
          "2023-04-28",
          "2023-04-29",
          "2023-04-30",
          "2023-05-01",
          "2023-05-02",
          "2023-05-03",
          "2023-05-04",
          "2023-05-05",
          "2023-05-06",
          "2023-05-07",
          "2023-05-08",
          "2023-05-09",
          "2023-05-10",
          "2023-05-11",
          "2023-05-12"
         ],
         "y": [
          26614.716797,
          25340.615234,
          25290.326172,
          27887.8125,
          27825.953125,
          28540.560547,
          28627.724609,
          28539.5625,
          28903.335938,
          28829.84375,
          28488.4375,
          27891.826172,
          28278.144531,
          28137.925781,
          27560.71875,
          28719.542969,
          29259.902344,
          28739.896484,
          28902.457031,
          28618.958984,
          28575.623047,
          28533.742188,
          28839.238281,
          28278.384766,
          28211.59375,
          28259.863281,
          28632.830078,
          29871.464844,
          30609.083984,
          30562.480469,
          30639.845703,
          31105.607422,
          30701.740234,
          30655.537109,
          30419.197266,
          30570.302734,
          30511.054688,
          29176.400391,
          28449.96875,
          27972.142578,
          27920.244141,
          28079.982422,
          28471.078125,
          30095.837891,
          29971.546875,
          29672.791016,
          29552.455078,
          30052.029297,
          29429.935547,
          28981.298828,
          29359.533203,
          29453.185547,
          29768.908203,
          29920.126953,
          29257.517578,
          28763.271484,
          27921.400391,
          28422.6875,
          27721.941406,
          27155.646484
         ]
        },
        {
         "marker": {
          "color": "Orange",
          "size": 5
         },
         "mode": "markers",
         "name": "Signal",
         "type": "scatter",
         "x": [
          "2023-03-14",
          "2023-03-15",
          "2023-03-16",
          "2023-03-17",
          "2023-03-18",
          "2023-03-19",
          "2023-03-20",
          "2023-03-21",
          "2023-03-22",
          "2023-03-23",
          "2023-03-24",
          "2023-03-25",
          "2023-03-26",
          "2023-03-27",
          "2023-03-28",
          "2023-03-29",
          "2023-03-30",
          "2023-03-31",
          "2023-04-01",
          "2023-04-02",
          "2023-04-03",
          "2023-04-04",
          "2023-04-05",
          "2023-04-06",
          "2023-04-07",
          "2023-04-08",
          "2023-04-09",
          "2023-04-10",
          "2023-04-11",
          "2023-04-12",
          "2023-04-13",
          "2023-04-14",
          "2023-04-15",
          "2023-04-16",
          "2023-04-17",
          "2023-04-18",
          "2023-04-19",
          "2023-04-20",
          "2023-04-21",
          "2023-04-22",
          "2023-04-23",
          "2023-04-24",
          "2023-04-25",
          "2023-04-26",
          "2023-04-27",
          "2023-04-28",
          "2023-04-29",
          "2023-04-30",
          "2023-05-01",
          "2023-05-02",
          "2023-05-03",
          "2023-05-04",
          "2023-05-05",
          "2023-05-06",
          "2023-05-07",
          "2023-05-08",
          "2023-05-09",
          "2023-05-10",
          "2023-05-11",
          "2023-05-12"
         ],
         "y": [
          23981.183594,
          23864.910156,
          24125.111328,
          24855.169922,
          26536.261719,
          26807.716797,
          27142.880859,
          27339.646484,
          26659.996094,
          27083.363281,
          26939.265625,
          27096.234375,
          27345.046875,
          26506.689453,
          26577.818359,
          27159.662109,
          27620.160156,
          27483.714844,
          28197.171875,
          27784.087891,
          27176.720703,
          27581.304688,
          27743.763672,
          27638.759766,
          27694.03125,
          27783.386719,
          27728.480469,
          28089.271484,
          29509.300781,
          29625.574219,
          29778.623047,
          29944.498047,
          30145.882813,
          30057.832031,
          29175.371094,
          29054.849609,
          28569.898438,
          27937.257813,
          27077.365234,
          27069.570313,
          27300.314453,
          26970.849609,
          27107.931641,
          27224.548828,
          28302.886719,
          28829.609375,
          28988.042969,
          29014.021484,
          27580.792969,
          27824.123047,
          28078.388672,
          28594.039063,
          28745.509766,
          28368.966797,
          28341.367188,
          27210.134766,
          27275.601563,
          26783.669922,
          26681.826172,
          25778.429688
         ]
        }
       ],
       "layout": {
        "margin": {
         "b": 25,
         "l": 25,
         "r": 25,
         "t": 25
        },
        "template": {
         "data": {
          "bar": [
           {
            "error_x": {
             "color": "#2a3f5f"
            },
            "error_y": {
             "color": "#2a3f5f"
            },
            "marker": {
             "line": {
              "color": "#E5ECF6",
              "width": 0.5
             },
             "pattern": {
              "fillmode": "overlay",
              "size": 10,
              "solidity": 0.2
             }
            },
            "type": "bar"
           }
          ],
          "barpolar": [
           {
            "marker": {
             "line": {
              "color": "#E5ECF6",
              "width": 0.5
             },
             "pattern": {
              "fillmode": "overlay",
              "size": 10,
              "solidity": 0.2
             }
            },
            "type": "barpolar"
           }
          ],
          "carpet": [
           {
            "aaxis": {
             "endlinecolor": "#2a3f5f",
             "gridcolor": "white",
             "linecolor": "white",
             "minorgridcolor": "white",
             "startlinecolor": "#2a3f5f"
            },
            "baxis": {
             "endlinecolor": "#2a3f5f",
             "gridcolor": "white",
             "linecolor": "white",
             "minorgridcolor": "white",
             "startlinecolor": "#2a3f5f"
            },
            "type": "carpet"
           }
          ],
          "choropleth": [
           {
            "colorbar": {
             "outlinewidth": 0,
             "ticks": ""
            },
            "type": "choropleth"
           }
          ],
          "contour": [
           {
            "colorbar": {
             "outlinewidth": 0,
             "ticks": ""
            },
            "colorscale": [
             [
              0,
              "#0d0887"
             ],
             [
              0.1111111111111111,
              "#46039f"
             ],
             [
              0.2222222222222222,
              "#7201a8"
             ],
             [
              0.3333333333333333,
              "#9c179e"
             ],
             [
              0.4444444444444444,
              "#bd3786"
             ],
             [
              0.5555555555555556,
              "#d8576b"
             ],
             [
              0.6666666666666666,
              "#ed7953"
             ],
             [
              0.7777777777777778,
              "#fb9f3a"
             ],
             [
              0.8888888888888888,
              "#fdca26"
             ],
             [
              1,
              "#f0f921"
             ]
            ],
            "type": "contour"
           }
          ],
          "contourcarpet": [
           {
            "colorbar": {
             "outlinewidth": 0,
             "ticks": ""
            },
            "type": "contourcarpet"
           }
          ],
          "heatmap": [
           {
            "colorbar": {
             "outlinewidth": 0,
             "ticks": ""
            },
            "colorscale": [
             [
              0,
              "#0d0887"
             ],
             [
              0.1111111111111111,
              "#46039f"
             ],
             [
              0.2222222222222222,
              "#7201a8"
             ],
             [
              0.3333333333333333,
              "#9c179e"
             ],
             [
              0.4444444444444444,
              "#bd3786"
             ],
             [
              0.5555555555555556,
              "#d8576b"
             ],
             [
              0.6666666666666666,
              "#ed7953"
             ],
             [
              0.7777777777777778,
              "#fb9f3a"
             ],
             [
              0.8888888888888888,
              "#fdca26"
             ],
             [
              1,
              "#f0f921"
             ]
            ],
            "type": "heatmap"
           }
          ],
          "heatmapgl": [
           {
            "colorbar": {
             "outlinewidth": 0,
             "ticks": ""
            },
            "colorscale": [
             [
              0,
              "#0d0887"
             ],
             [
              0.1111111111111111,
              "#46039f"
             ],
             [
              0.2222222222222222,
              "#7201a8"
             ],
             [
              0.3333333333333333,
              "#9c179e"
             ],
             [
              0.4444444444444444,
              "#bd3786"
             ],
             [
              0.5555555555555556,
              "#d8576b"
             ],
             [
              0.6666666666666666,
              "#ed7953"
             ],
             [
              0.7777777777777778,
              "#fb9f3a"
             ],
             [
              0.8888888888888888,
              "#fdca26"
             ],
             [
              1,
              "#f0f921"
             ]
            ],
            "type": "heatmapgl"
           }
          ],
          "histogram": [
           {
            "marker": {
             "pattern": {
              "fillmode": "overlay",
              "size": 10,
              "solidity": 0.2
             }
            },
            "type": "histogram"
           }
          ],
          "histogram2d": [
           {
            "colorbar": {
             "outlinewidth": 0,
             "ticks": ""
            },
            "colorscale": [
             [
              0,
              "#0d0887"
             ],
             [
              0.1111111111111111,
              "#46039f"
             ],
             [
              0.2222222222222222,
              "#7201a8"
             ],
             [
              0.3333333333333333,
              "#9c179e"
             ],
             [
              0.4444444444444444,
              "#bd3786"
             ],
             [
              0.5555555555555556,
              "#d8576b"
             ],
             [
              0.6666666666666666,
              "#ed7953"
             ],
             [
              0.7777777777777778,
              "#fb9f3a"
             ],
             [
              0.8888888888888888,
              "#fdca26"
             ],
             [
              1,
              "#f0f921"
             ]
            ],
            "type": "histogram2d"
           }
          ],
          "histogram2dcontour": [
           {
            "colorbar": {
             "outlinewidth": 0,
             "ticks": ""
            },
            "colorscale": [
             [
              0,
              "#0d0887"
             ],
             [
              0.1111111111111111,
              "#46039f"
             ],
             [
              0.2222222222222222,
              "#7201a8"
             ],
             [
              0.3333333333333333,
              "#9c179e"
             ],
             [
              0.4444444444444444,
              "#bd3786"
             ],
             [
              0.5555555555555556,
              "#d8576b"
             ],
             [
              0.6666666666666666,
              "#ed7953"
             ],
             [
              0.7777777777777778,
              "#fb9f3a"
             ],
             [
              0.8888888888888888,
              "#fdca26"
             ],
             [
              1,
              "#f0f921"
             ]
            ],
            "type": "histogram2dcontour"
           }
          ],
          "mesh3d": [
           {
            "colorbar": {
             "outlinewidth": 0,
             "ticks": ""
            },
            "type": "mesh3d"
           }
          ],
          "parcoords": [
           {
            "line": {
             "colorbar": {
              "outlinewidth": 0,
              "ticks": ""
             }
            },
            "type": "parcoords"
           }
          ],
          "pie": [
           {
            "automargin": true,
            "type": "pie"
           }
          ],
          "scatter": [
           {
            "fillpattern": {
             "fillmode": "overlay",
             "size": 10,
             "solidity": 0.2
            },
            "type": "scatter"
           }
          ],
          "scatter3d": [
           {
            "line": {
             "colorbar": {
              "outlinewidth": 0,
              "ticks": ""
             }
            },
            "marker": {
             "colorbar": {
              "outlinewidth": 0,
              "ticks": ""
             }
            },
            "type": "scatter3d"
           }
          ],
          "scattercarpet": [
           {
            "marker": {
             "colorbar": {
              "outlinewidth": 0,
              "ticks": ""
             }
            },
            "type": "scattercarpet"
           }
          ],
          "scattergeo": [
           {
            "marker": {
             "colorbar": {
              "outlinewidth": 0,
              "ticks": ""
             }
            },
            "type": "scattergeo"
           }
          ],
          "scattergl": [
           {
            "marker": {
             "colorbar": {
              "outlinewidth": 0,
              "ticks": ""
             }
            },
            "type": "scattergl"
           }
          ],
          "scattermapbox": [
           {
            "marker": {
             "colorbar": {
              "outlinewidth": 0,
              "ticks": ""
             }
            },
            "type": "scattermapbox"
           }
          ],
          "scatterpolar": [
           {
            "marker": {
             "colorbar": {
              "outlinewidth": 0,
              "ticks": ""
             }
            },
            "type": "scatterpolar"
           }
          ],
          "scatterpolargl": [
           {
            "marker": {
             "colorbar": {
              "outlinewidth": 0,
              "ticks": ""
             }
            },
            "type": "scatterpolargl"
           }
          ],
          "scatterternary": [
           {
            "marker": {
             "colorbar": {
              "outlinewidth": 0,
              "ticks": ""
             }
            },
            "type": "scatterternary"
           }
          ],
          "surface": [
           {
            "colorbar": {
             "outlinewidth": 0,
             "ticks": ""
            },
            "colorscale": [
             [
              0,
              "#0d0887"
             ],
             [
              0.1111111111111111,
              "#46039f"
             ],
             [
              0.2222222222222222,
              "#7201a8"
             ],
             [
              0.3333333333333333,
              "#9c179e"
             ],
             [
              0.4444444444444444,
              "#bd3786"
             ],
             [
              0.5555555555555556,
              "#d8576b"
             ],
             [
              0.6666666666666666,
              "#ed7953"
             ],
             [
              0.7777777777777778,
              "#fb9f3a"
             ],
             [
              0.8888888888888888,
              "#fdca26"
             ],
             [
              1,
              "#f0f921"
             ]
            ],
            "type": "surface"
           }
          ],
          "table": [
           {
            "cells": {
             "fill": {
              "color": "#EBF0F8"
             },
             "line": {
              "color": "white"
             }
            },
            "header": {
             "fill": {
              "color": "#C8D4E3"
             },
             "line": {
              "color": "white"
             }
            },
            "type": "table"
           }
          ]
         },
         "layout": {
          "annotationdefaults": {
           "arrowcolor": "#2a3f5f",
           "arrowhead": 0,
           "arrowwidth": 1
          },
          "autotypenumbers": "strict",
          "coloraxis": {
           "colorbar": {
            "outlinewidth": 0,
            "ticks": ""
           }
          },
          "colorscale": {
           "diverging": [
            [
             0,
             "#8e0152"
            ],
            [
             0.1,
             "#c51b7d"
            ],
            [
             0.2,
             "#de77ae"
            ],
            [
             0.3,
             "#f1b6da"
            ],
            [
             0.4,
             "#fde0ef"
            ],
            [
             0.5,
             "#f7f7f7"
            ],
            [
             0.6,
             "#e6f5d0"
            ],
            [
             0.7,
             "#b8e186"
            ],
            [
             0.8,
             "#7fbc41"
            ],
            [
             0.9,
             "#4d9221"
            ],
            [
             1,
             "#276419"
            ]
           ],
           "sequential": [
            [
             0,
             "#0d0887"
            ],
            [
             0.1111111111111111,
             "#46039f"
            ],
            [
             0.2222222222222222,
             "#7201a8"
            ],
            [
             0.3333333333333333,
             "#9c179e"
            ],
            [
             0.4444444444444444,
             "#bd3786"
            ],
            [
             0.5555555555555556,
             "#d8576b"
            ],
            [
             0.6666666666666666,
             "#ed7953"
            ],
            [
             0.7777777777777778,
             "#fb9f3a"
            ],
            [
             0.8888888888888888,
             "#fdca26"
            ],
            [
             1,
             "#f0f921"
            ]
           ],
           "sequentialminus": [
            [
             0,
             "#0d0887"
            ],
            [
             0.1111111111111111,
             "#46039f"
            ],
            [
             0.2222222222222222,
             "#7201a8"
            ],
            [
             0.3333333333333333,
             "#9c179e"
            ],
            [
             0.4444444444444444,
             "#bd3786"
            ],
            [
             0.5555555555555556,
             "#d8576b"
            ],
            [
             0.6666666666666666,
             "#ed7953"
            ],
            [
             0.7777777777777778,
             "#fb9f3a"
            ],
            [
             0.8888888888888888,
             "#fdca26"
            ],
            [
             1,
             "#f0f921"
            ]
           ]
          },
          "colorway": [
           "#636efa",
           "#EF553B",
           "#00cc96",
           "#ab63fa",
           "#FFA15A",
           "#19d3f3",
           "#FF6692",
           "#B6E880",
           "#FF97FF",
           "#FECB52"
          ],
          "font": {
           "color": "#2a3f5f"
          },
          "geo": {
           "bgcolor": "white",
           "lakecolor": "white",
           "landcolor": "#E5ECF6",
           "showlakes": true,
           "showland": true,
           "subunitcolor": "white"
          },
          "hoverlabel": {
           "align": "left"
          },
          "hovermode": "closest",
          "mapbox": {
           "style": "light"
          },
          "paper_bgcolor": "white",
          "plot_bgcolor": "#E5ECF6",
          "polar": {
           "angularaxis": {
            "gridcolor": "white",
            "linecolor": "white",
            "ticks": ""
           },
           "bgcolor": "#E5ECF6",
           "radialaxis": {
            "gridcolor": "white",
            "linecolor": "white",
            "ticks": ""
           }
          },
          "scene": {
           "xaxis": {
            "backgroundcolor": "#E5ECF6",
            "gridcolor": "white",
            "gridwidth": 2,
            "linecolor": "white",
            "showbackground": true,
            "ticks": "",
            "zerolinecolor": "white"
           },
           "yaxis": {
            "backgroundcolor": "#E5ECF6",
            "gridcolor": "white",
            "gridwidth": 2,
            "linecolor": "white",
            "showbackground": true,
            "ticks": "",
            "zerolinecolor": "white"
           },
           "zaxis": {
            "backgroundcolor": "#E5ECF6",
            "gridcolor": "white",
            "gridwidth": 2,
            "linecolor": "white",
            "showbackground": true,
            "ticks": "",
            "zerolinecolor": "white"
           }
          },
          "shapedefaults": {
           "line": {
            "color": "#2a3f5f"
           }
          },
          "ternary": {
           "aaxis": {
            "gridcolor": "white",
            "linecolor": "white",
            "ticks": ""
           },
           "baxis": {
            "gridcolor": "white",
            "linecolor": "white",
            "ticks": ""
           },
           "bgcolor": "#E5ECF6",
           "caxis": {
            "gridcolor": "white",
            "linecolor": "white",
            "ticks": ""
           }
          },
          "title": {
           "x": 0.05
          },
          "xaxis": {
           "automargin": true,
           "gridcolor": "white",
           "linecolor": "white",
           "ticks": "",
           "title": {
            "standoff": 15
           },
           "zerolinecolor": "white",
           "zerolinewidth": 2
          },
          "yaxis": {
           "automargin": true,
           "gridcolor": "white",
           "linecolor": "white",
           "ticks": "",
           "title": {
            "standoff": 15
           },
           "zerolinecolor": "white",
           "zerolinewidth": 2
          }
         }
        },
        "xaxis": {
         "rangeslider": {
          "visible": false
         },
         "showgrid": false,
         "title": {
          "text": "Date"
         }
        },
        "yaxis": {
         "showgrid": false,
         "title": {
          "text": "Price"
         }
        }
       }
      }
     },
     "metadata": {},
     "output_type": "display_data"
    }
   ],
   "source": [
    "dfplot = data_filtered[0:60]\n",
    "MARGIN = 25\n",
    "fig = go.Figure(data=[go.Candlestick(\n",
    "                x=dfplot[\"Date\"], \n",
    "                open=dfplot[\"Open\"], \n",
    "                high=dfplot[\"High\"], \n",
    "                low=dfplot[\"Low\"], \n",
    "                close=dfplot[\"Close\"],\n",
    "                increasing_line_color=\"green\", \n",
    "                decreasing_line_color=\"red\"),\n",
    "                go.Scatter(x=dfplot[\"Date\"], y=[27000] * len(dfplot), line=dict(color=\"blue\", width=2), name=\"Resistance\"),\n",
    "                go.Scatter(x=dfplot[\"Date\"], y=[28500] * len(dfplot), line=dict(color=\"blue\", width=2), name=\"Resistance\"),\n",
    "                go.Scatter(x=dfplot[\"Date\"], y=dfplot.High+100, mode=\"markers\", marker=dict(color=\"Purple\", size=5), name=\"Signal\"),\n",
    "                go.Scatter(x=dfplot[\"Date\"], y=dfplot.Low-100, mode=\"markers\", marker=dict(color=\"Orange\", size=5), name=\"Signal\")\n",
    "                ])\n",
    "fig.update(layout_xaxis_rangeslider_visible=False) # Hide slider\n",
    "fig.update_layout(margin_l = MARGIN, margin_r = MARGIN, margin_t = MARGIN, margin_b = MARGIN)\n",
    "fig.update_yaxes(title_text=\"Price\", showgrid=False)\n",
    "fig.update_xaxes(title_text=\"Date\", showgrid=False)\n",
    "fig.show()"
   ]
  },
  {
   "cell_type": "code",
   "execution_count": null,
   "id": "f9a47874",
   "metadata": {},
   "outputs": [],
   "source": []
  }
 ],
 "metadata": {
  "kernelspec": {
   "display_name": ".venv",
   "language": "python",
   "name": "python3"
  },
  "language_info": {
   "codemirror_mode": {
    "name": "ipython",
    "version": 3
   },
   "file_extension": ".py",
   "mimetype": "text/x-python",
   "name": "python",
   "nbconvert_exporter": "python",
   "pygments_lexer": "ipython3",
   "version": "3.11.4"
  }
 },
 "nbformat": 4,
 "nbformat_minor": 5
}
